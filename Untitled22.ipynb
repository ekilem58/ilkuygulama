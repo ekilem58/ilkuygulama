{
  "nbformat": 4,
  "nbformat_minor": 0,
  "metadata": {
    "colab": {
      "provenance": []
    },
    "kernelspec": {
      "name": "python3",
      "display_name": "Python 3"
    },
    "language_info": {
      "name": "python"
    }
  },
  "cells": [
    {
      "cell_type": "code",
      "execution_count": 8,
      "metadata": {
        "id": "_e4YzLVLRjHp"
      },
      "outputs": [],
      "source": [
        "my_string = \"Sivas Farabi Gençlik Merkezi \""
      ]
    },
    {
      "cell_type": "code",
      "source": [
        "my_string"
      ],
      "metadata": {
        "colab": {
          "base_uri": "https://localhost:8080/",
          "height": 36
        },
        "id": "nBUiYf9AarFC",
        "outputId": "fc5f9a3c-799d-4474-bb70-f28b778079af"
      },
      "execution_count": 12,
      "outputs": [
        {
          "output_type": "execute_result",
          "data": {
            "text/plain": [
              "'Sivas Farabi Gençlik Merkezi '"
            ],
            "application/vnd.google.colaboratory.intrinsic+json": {
              "type": "string"
            }
          },
          "metadata": {},
          "execution_count": 12
        }
      ]
    },
    {
      "cell_type": "code",
      "source": [
        "print(my_string)"
      ],
      "metadata": {
        "colab": {
          "base_uri": "https://localhost:8080/"
        },
        "id": "fKFfiMZ5atJB",
        "outputId": "b4d2ac61-03b8-418f-bcdc-0c81f5014e64"
      },
      "execution_count": 13,
      "outputs": [
        {
          "output_type": "stream",
          "name": "stdout",
          "text": [
            "Sivas Farabi Gençlik Merkezi \n"
          ]
        }
      ]
    },
    {
      "cell_type": "code",
      "source": [
        "my_string[2]"
      ],
      "metadata": {
        "colab": {
          "base_uri": "https://localhost:8080/",
          "height": 36
        },
        "id": "xbJ0Gf8La09A",
        "outputId": "d5def3e9-8120-499d-8c53-568901c0160e"
      },
      "execution_count": 17,
      "outputs": [
        {
          "output_type": "execute_result",
          "data": {
            "text/plain": [
              "'v'"
            ],
            "application/vnd.google.colaboratory.intrinsic+json": {
              "type": "string"
            }
          },
          "metadata": {},
          "execution_count": 17
        }
      ]
    },
    {
      "cell_type": "code",
      "source": [
        "my_string[4]"
      ],
      "metadata": {
        "colab": {
          "base_uri": "https://localhost:8080/",
          "height": 36
        },
        "id": "Mz7kh22JTbU0",
        "outputId": "b775f43f-031a-49fd-e9ab-e00c80a3e2fe"
      },
      "execution_count": 18,
      "outputs": [
        {
          "output_type": "execute_result",
          "data": {
            "text/plain": [
              "'s'"
            ],
            "application/vnd.google.colaboratory.intrinsic+json": {
              "type": "string"
            }
          },
          "metadata": {},
          "execution_count": 18
        }
      ]
    },
    {
      "cell_type": "code",
      "source": [
        "my_new_string =\"Çanakkale Geçilmez\""
      ],
      "metadata": {
        "id": "BTuYiyyyUNR0"
      },
      "execution_count": 19,
      "outputs": []
    },
    {
      "cell_type": "code",
      "source": [
        "my_new_string[4:]"
      ],
      "metadata": {
        "colab": {
          "base_uri": "https://localhost:8080/",
          "height": 36
        },
        "id": "_uUI_0HwbJZg",
        "outputId": "502af4b4-04ab-4614-f9fa-8ba74ec5a092"
      },
      "execution_count": 21,
      "outputs": [
        {
          "output_type": "execute_result",
          "data": {
            "text/plain": [
              "'kkale Geçilmez'"
            ],
            "application/vnd.google.colaboratory.intrinsic+json": {
              "type": "string"
            }
          },
          "metadata": {},
          "execution_count": 21
        }
      ]
    },
    {
      "cell_type": "code",
      "source": [
        "my_new_string[4:8]\n"
      ],
      "metadata": {
        "colab": {
          "base_uri": "https://localhost:8080/",
          "height": 36
        },
        "id": "sA_5mcYURwf_",
        "outputId": "99e7ede1-d616-4e65-bf02-530693bd732c"
      },
      "execution_count": 24,
      "outputs": [
        {
          "output_type": "execute_result",
          "data": {
            "text/plain": [
              "'kkal'"
            ],
            "application/vnd.google.colaboratory.intrinsic+json": {
              "type": "string"
            }
          },
          "metadata": {},
          "execution_count": 24
        }
      ]
    },
    {
      "cell_type": "code",
      "source": [
        "my_new_string[ :8]"
      ],
      "metadata": {
        "colab": {
          "base_uri": "https://localhost:8080/",
          "height": 36
        },
        "id": "wgMVQ4jnbOKP",
        "outputId": "65c91c3c-6ae3-4d89-f6cd-8b152a430c2b"
      },
      "execution_count": 22,
      "outputs": [
        {
          "output_type": "execute_result",
          "data": {
            "text/plain": [
              "'Çanakkal'"
            ],
            "application/vnd.google.colaboratory.intrinsic+json": {
              "type": "string"
            }
          },
          "metadata": {},
          "execution_count": 22
        }
      ]
    },
    {
      "cell_type": "code",
      "source": [
        "my_new_string[2:8]"
      ],
      "metadata": {
        "colab": {
          "base_uri": "https://localhost:8080/",
          "height": 36
        },
        "id": "8r1dePb3bUDX",
        "outputId": "41e34b11-e969-48d2-a6e1-6b74436baa91"
      },
      "execution_count": 23,
      "outputs": [
        {
          "output_type": "execute_result",
          "data": {
            "text/plain": [
              "'nakkal'"
            ],
            "application/vnd.google.colaboratory.intrinsic+json": {
              "type": "string"
            }
          },
          "metadata": {},
          "execution_count": 23
        }
      ]
    },
    {
      "cell_type": "code",
      "source": [
        "my_last_string = \"Afyonkarahisarlaştıramadıklarımızdanmısınız\""
      ],
      "metadata": {
        "id": "CuknwPjTUQQ5"
      },
      "execution_count": 26,
      "outputs": []
    },
    {
      "cell_type": "code",
      "source": [
        "my_last_string[::-1]"
      ],
      "metadata": {
        "colab": {
          "base_uri": "https://localhost:8080/",
          "height": 36
        },
        "id": "aILcvHBsR3Wu",
        "outputId": "53f0f3e9-92c0-4dc0-bb7f-1cc23e34e1d6"
      },
      "execution_count": 27,
      "outputs": [
        {
          "output_type": "execute_result",
          "data": {
            "text/plain": [
              "'zınısımnadzımıralkıdamarıtşalrasiharaknoyfA'"
            ],
            "application/vnd.google.colaboratory.intrinsic+json": {
              "type": "string"
            }
          },
          "metadata": {},
          "execution_count": 27
        }
      ]
    },
    {
      "cell_type": "code",
      "source": [
        "sayi=5"
      ],
      "metadata": {
        "id": "jsigzOuybk46"
      },
      "execution_count": 28,
      "outputs": []
    },
    {
      "cell_type": "code",
      "source": [
        "sayi=3.14"
      ],
      "metadata": {
        "id": "9pqvpKSfbn-S"
      },
      "execution_count": 29,
      "outputs": []
    },
    {
      "cell_type": "code",
      "source": [
        "sayi1=2\n"
      ],
      "metadata": {
        "id": "Xk6GAftCbpyY"
      },
      "execution_count": 30,
      "outputs": []
    },
    {
      "cell_type": "code",
      "source": [
        "sayi2=3"
      ],
      "metadata": {
        "id": "CS-FYMWsbrdU"
      },
      "execution_count": 31,
      "outputs": []
    },
    {
      "cell_type": "code",
      "source": [
        "sayi1<sayi2"
      ],
      "metadata": {
        "colab": {
          "base_uri": "https://localhost:8080/"
        },
        "id": "u7ocFRd1bs_Z",
        "outputId": "9a01fd3c-0d3a-422a-b750-10800ec52b40"
      },
      "execution_count": 33,
      "outputs": [
        {
          "output_type": "execute_result",
          "data": {
            "text/plain": [
              "True"
            ]
          },
          "metadata": {},
          "execution_count": 33
        }
      ]
    },
    {
      "cell_type": "code",
      "source": [
        "number = 3 + 10.2 + 50\n",
        "\n",
        "\n",
        "\n",
        "type(number)"
      ],
      "metadata": {
        "colab": {
          "base_uri": "https://localhost:8080/"
        },
        "id": "notO4VueRw9m",
        "outputId": "21699fcd-9d14-499e-bc2d-698d5a21917c"
      },
      "execution_count": 34,
      "outputs": [
        {
          "output_type": "execute_result",
          "data": {
            "text/plain": [
              "float"
            ]
          },
          "metadata": {},
          "execution_count": 34
        }
      ]
    },
    {
      "cell_type": "code",
      "source": [
        "5 + 8 * 12"
      ],
      "metadata": {
        "colab": {
          "base_uri": "https://localhost:8080/"
        },
        "id": "cUGJimduR7Rf",
        "outputId": "a89a7096-1272-45d1-b8e4-1fe1c38fdbdd"
      },
      "execution_count": 35,
      "outputs": [
        {
          "output_type": "execute_result",
          "data": {
            "text/plain": [
              "101"
            ]
          },
          "metadata": {},
          "execution_count": 35
        }
      ]
    },
    {
      "cell_type": "code",
      "source": [
        "my_list_1 = [1,2,\"a\"]"
      ],
      "metadata": {
        "id": "HbFe7gb2R_Uk"
      },
      "execution_count": 36,
      "outputs": []
    },
    {
      "cell_type": "code",
      "source": [
        "my_list_2 = []"
      ],
      "metadata": {
        "id": "nwz_dXvNSCSS"
      },
      "execution_count": 37,
      "outputs": []
    },
    {
      "cell_type": "code",
      "source": [
        "my_list_2"
      ],
      "metadata": {
        "colab": {
          "base_uri": "https://localhost:8080/"
        },
        "id": "8shojm23cHfx",
        "outputId": "eac10f20-767a-4565-f8ce-0887d305d526"
      },
      "execution_count": 38,
      "outputs": [
        {
          "output_type": "execute_result",
          "data": {
            "text/plain": [
              "[]"
            ]
          },
          "metadata": {},
          "execution_count": 38
        }
      ]
    },
    {
      "cell_type": "code",
      "source": [
        "my_list_2.append(1)"
      ],
      "metadata": {
        "id": "dJlimDedSEJ6"
      },
      "execution_count": 39,
      "outputs": []
    },
    {
      "cell_type": "code",
      "source": [
        "my_list_2.append(2)"
      ],
      "metadata": {
        "id": "t6cu3xd_SFdZ"
      },
      "execution_count": 40,
      "outputs": []
    },
    {
      "cell_type": "code",
      "source": [
        "my_list_2.append(\"a\")"
      ],
      "metadata": {
        "id": "JHXM--nwSNeB"
      },
      "execution_count": 41,
      "outputs": []
    },
    {
      "cell_type": "code",
      "source": [
        "my_list_2"
      ],
      "metadata": {
        "colab": {
          "base_uri": "https://localhost:8080/"
        },
        "id": "kF_khFBPSOm4",
        "outputId": "1d40f329-07b1-45a9-f660-36fd45ed9547"
      },
      "execution_count": 42,
      "outputs": [
        {
          "output_type": "execute_result",
          "data": {
            "text/plain": [
              "[1, 2, 'a']"
            ]
          },
          "metadata": {},
          "execution_count": 42
        }
      ]
    },
    {
      "cell_type": "code",
      "source": [
        "my_list_3 = list()"
      ],
      "metadata": {
        "id": "BB4an76ISQSH"
      },
      "execution_count": 43,
      "outputs": []
    },
    {
      "cell_type": "code",
      "source": [
        "my_list_3"
      ],
      "metadata": {
        "colab": {
          "base_uri": "https://localhost:8080/"
        },
        "id": "9xxmLiq5cOfo",
        "outputId": "3400c78e-4624-40e1-ac51-36d852264957"
      },
      "execution_count": 44,
      "outputs": [
        {
          "output_type": "execute_result",
          "data": {
            "text/plain": [
              "[]"
            ]
          },
          "metadata": {},
          "execution_count": 44
        }
      ]
    },
    {
      "cell_type": "code",
      "source": [
        "my_list_3.append(1)"
      ],
      "metadata": {
        "id": "WryzETolSRpA"
      },
      "execution_count": 45,
      "outputs": []
    },
    {
      "cell_type": "code",
      "source": [
        "my_list_3.append(2)"
      ],
      "metadata": {
        "id": "53Rok8EtSS9Q"
      },
      "execution_count": 46,
      "outputs": []
    },
    {
      "cell_type": "code",
      "source": [
        "my_list_3.append(\"a\")"
      ],
      "metadata": {
        "id": "hHvsmkrLSU3x"
      },
      "execution_count": 47,
      "outputs": []
    },
    {
      "cell_type": "code",
      "source": [
        "my_list_3"
      ],
      "metadata": {
        "colab": {
          "base_uri": "https://localhost:8080/"
        },
        "id": "yfZFpQYuSVP_",
        "outputId": "9c3e642c-c150-4fe0-d63b-035b25fdee5b"
      },
      "execution_count": 48,
      "outputs": [
        {
          "output_type": "execute_result",
          "data": {
            "text/plain": [
              "[1, 2, 'a']"
            ]
          },
          "metadata": {},
          "execution_count": 48
        }
      ]
    },
    {
      "cell_type": "code",
      "source": [
        "my_list = [1,4,[2,3,\"a\"]]"
      ],
      "metadata": {
        "id": "EIyG654sSWvv"
      },
      "execution_count": 50,
      "outputs": []
    },
    {
      "cell_type": "code",
      "source": [
        "my_list[2]"
      ],
      "metadata": {
        "colab": {
          "base_uri": "https://localhost:8080/"
        },
        "id": "9JB5kj_3cTVN",
        "outputId": "2d9c4aee-2dad-46b0-f35b-78beb2f61b2a"
      },
      "execution_count": 52,
      "outputs": [
        {
          "output_type": "execute_result",
          "data": {
            "text/plain": [
              "[2, 3, 'a']"
            ]
          },
          "metadata": {},
          "execution_count": 52
        }
      ]
    },
    {
      "cell_type": "code",
      "source": [
        "my_list[2][-1]"
      ],
      "metadata": {
        "colab": {
          "base_uri": "https://localhost:8080/",
          "height": 36
        },
        "id": "QldH2xUiSYOh",
        "outputId": "924aa0b4-aed6-4970-ae55-cee28e6e8f40"
      },
      "execution_count": 53,
      "outputs": [
        {
          "output_type": "execute_result",
          "data": {
            "text/plain": [
              "'a'"
            ],
            "application/vnd.google.colaboratory.intrinsic+json": {
              "type": "string"
            }
          },
          "metadata": {},
          "execution_count": 53
        }
      ]
    },
    {
      "cell_type": "code",
      "source": [
        "my_dictionary = {\"k1\":2, \"kk\":[4,{\"kkkk\":\"b\"}]}"
      ],
      "metadata": {
        "id": "8s8_zHPrSaSJ"
      },
      "execution_count": 9,
      "outputs": []
    },
    {
      "cell_type": "code",
      "source": [
        "my_dictionary[\"kk\"][1][\"kkkk\"]"
      ],
      "metadata": {
        "colab": {
          "base_uri": "https://localhost:8080/",
          "height": 36
        },
        "id": "1iSXJQebSax6",
        "outputId": "95d32eb0-96be-4141-d69b-132d4f8001d9"
      },
      "execution_count": 54,
      "outputs": [
        {
          "output_type": "execute_result",
          "data": {
            "text/plain": [
              "'b'"
            ],
            "application/vnd.google.colaboratory.intrinsic+json": {
              "type": "string"
            }
          },
          "metadata": {},
          "execution_count": 54
        }
      ]
    },
    {
      "cell_type": "code",
      "source": [
        "x = 40 * 5 + 3"
      ],
      "metadata": {
        "id": "VwRuRQOoSfKB"
      },
      "execution_count": 55,
      "outputs": []
    },
    {
      "cell_type": "code",
      "source": [
        "x"
      ],
      "metadata": {
        "colab": {
          "base_uri": "https://localhost:8080/"
        },
        "id": "vxFK0Ggoc3ua",
        "outputId": "25909b1c-fefc-46e3-98ac-87e75133f418"
      },
      "execution_count": 58,
      "outputs": [
        {
          "output_type": "execute_result",
          "data": {
            "text/plain": [
              "203"
            ]
          },
          "metadata": {},
          "execution_count": 58
        }
      ]
    },
    {
      "cell_type": "code",
      "source": [
        "y = 208 - 2 * 4"
      ],
      "metadata": {
        "id": "OxpsoNGcSgaI"
      },
      "execution_count": 56,
      "outputs": []
    },
    {
      "cell_type": "code",
      "source": [
        "y"
      ],
      "metadata": {
        "colab": {
          "base_uri": "https://localhost:8080/"
        },
        "id": "myb-1DYEc4ZN",
        "outputId": "104d0bfe-2ba9-4b1c-fe3a-75da9bc0da64"
      },
      "execution_count": 59,
      "outputs": [
        {
          "output_type": "execute_result",
          "data": {
            "text/plain": [
              "200"
            ]
          },
          "metadata": {},
          "execution_count": 59
        }
      ]
    },
    {
      "cell_type": "code",
      "source": [
        "x > y"
      ],
      "metadata": {
        "colab": {
          "base_uri": "https://localhost:8080/"
        },
        "id": "q979Gh81Shi5",
        "outputId": "a61a1c40-745a-4d9e-a7b7-fe80f852205f"
      },
      "execution_count": 57,
      "outputs": [
        {
          "output_type": "execute_result",
          "data": {
            "text/plain": [
              "True"
            ]
          },
          "metadata": {},
          "execution_count": 57
        }
      ]
    },
    {
      "cell_type": "code",
      "source": [
        "a = 40 * (4 - 2)"
      ],
      "metadata": {
        "id": "Kd2piXACSkqJ"
      },
      "execution_count": 60,
      "outputs": []
    },
    {
      "cell_type": "code",
      "source": [
        "a"
      ],
      "metadata": {
        "colab": {
          "base_uri": "https://localhost:8080/"
        },
        "id": "-YIqTDUzc8Ar",
        "outputId": "df2afb61-7860-4e66-87fc-5d858fac350b"
      },
      "execution_count": 63,
      "outputs": [
        {
          "output_type": "execute_result",
          "data": {
            "text/plain": [
              "80"
            ]
          },
          "metadata": {},
          "execution_count": 63
        }
      ]
    },
    {
      "cell_type": "code",
      "source": [
        "b = 80 - 2 * -5"
      ],
      "metadata": {
        "id": "WvDFfDxQSl7x"
      },
      "execution_count": 61,
      "outputs": []
    },
    {
      "cell_type": "code",
      "source": [
        "b"
      ],
      "metadata": {
        "colab": {
          "base_uri": "https://localhost:8080/"
        },
        "id": "P5GxN8NQc9H3",
        "outputId": "78874329-3d0e-4868-fb33-46e4e377e9e0"
      },
      "execution_count": 64,
      "outputs": [
        {
          "output_type": "execute_result",
          "data": {
            "text/plain": [
              "90"
            ]
          },
          "metadata": {},
          "execution_count": 64
        }
      ]
    },
    {
      "cell_type": "code",
      "source": [
        "a > b"
      ],
      "metadata": {
        "colab": {
          "base_uri": "https://localhost:8080/"
        },
        "id": "24UXJT2wSmTx",
        "outputId": "ed620606-3666-42c1-e31d-6ed774711604"
      },
      "execution_count": 62,
      "outputs": [
        {
          "output_type": "execute_result",
          "data": {
            "text/plain": [
              "False"
            ]
          },
          "metadata": {},
          "execution_count": 62
        }
      ]
    },
    {
      "cell_type": "code",
      "source": [
        "a= int(input(\"a gir\"))"
      ],
      "metadata": {
        "colab": {
          "base_uri": "https://localhost:8080/"
        },
        "id": "3SIG4vPySngY",
        "outputId": "cead2015-1df9-4feb-f4b0-6dbd0e5086cb"
      },
      "execution_count": 65,
      "outputs": [
        {
          "name": "stdout",
          "output_type": "stream",
          "text": [
            "a gir3\n"
          ]
        }
      ]
    },
    {
      "cell_type": "code",
      "source": [
        "b = int(input(\"b gir\"))"
      ],
      "metadata": {
        "colab": {
          "base_uri": "https://localhost:8080/"
        },
        "id": "eijBFixrSsFA",
        "outputId": "c68b23b0-02e6-410a-eea0-eaf44a6625b2"
      },
      "execution_count": 66,
      "outputs": [
        {
          "name": "stdout",
          "output_type": "stream",
          "text": [
            "b gir5\n"
          ]
        }
      ]
    },
    {
      "cell_type": "code",
      "source": [
        "c = int(input(\"c gir\"))"
      ],
      "metadata": {
        "colab": {
          "base_uri": "https://localhost:8080/"
        },
        "id": "RBFdiuL7S6WG",
        "outputId": "0940da8c-f66c-4e2a-ae09-2e65fffd9f79"
      },
      "execution_count": 68,
      "outputs": [
        {
          "name": "stdout",
          "output_type": "stream",
          "text": [
            "c gir-4\n"
          ]
        }
      ]
    },
    {
      "cell_type": "code",
      "source": [
        "delta = b ** 2 - 4 * a *c"
      ],
      "metadata": {
        "id": "hKZGeciTS-PX"
      },
      "execution_count": 69,
      "outputs": []
    },
    {
      "cell_type": "code",
      "source": [
        "x1 = (-b - delta ** 0.5 ) / (2 * a)"
      ],
      "metadata": {
        "id": "8FnVqI6SS-tX"
      },
      "execution_count": 70,
      "outputs": []
    },
    {
      "cell_type": "markdown",
      "source": [],
      "metadata": {
        "id": "nCy0SW-LTI4_"
      }
    },
    {
      "cell_type": "code",
      "source": [
        "x2 = (-b + delta ** 0.5 ) / (2 * a)"
      ],
      "metadata": {
        "id": "c3c8F9zNTAAn"
      },
      "execution_count": 71,
      "outputs": []
    },
    {
      "cell_type": "code",
      "source": [
        "print(\"Birinci Kök: {}\\nİkinci Kök: {}\\n\".format(x1,x2))"
      ],
      "metadata": {
        "colab": {
          "base_uri": "https://localhost:8080/"
        },
        "id": "ZTk2hTfjTBYQ",
        "outputId": "e7e49cba-d4a8-43e9-aa69-2363833530e7"
      },
      "execution_count": 72,
      "outputs": [
        {
          "output_type": "stream",
          "name": "stdout",
          "text": [
            "Birinci Kök: -2.257333957552922\n",
            "İkinci Kök: 0.590667290886255\n",
            "\n"
          ]
        }
      ]
    },
    {
      "cell_type": "code",
      "source": [],
      "metadata": {
        "id": "eBtIOheITC6H"
      },
      "execution_count": null,
      "outputs": []
    },
    {
      "cell_type": "code",
      "source": [
        "print(\"Oyuncu Adı: {}\\nOyuncu Soyadı: {}\\nOyuncunun Takımı: {}\\n\".format(bilgiler[0],bilgiler[1],bilgiler[2]))\n"
      ],
      "metadata": {
        "id": "hHvZ_3psV4ch"
      },
      "execution_count": null,
      "outputs": []
    },
    {
      "cell_type": "code",
      "source": [
        "a=int(input(\"ilk kenarı girin    :\"))\n",
        "\n",
        "b=int(input(\"ikinci kenarı girin :\"))\n",
        "\n",
        "c=int(input(\"ucuncu kenarı girin :\"))\n",
        "\n",
        "\n",
        "\n",
        "if (a+b<=c or a+c<=b or b+c<=a):\n",
        "\n",
        "\n",
        "  if (a==b and b==c):\n",
        "\n",
        "    print(\"eşkenar\" )\n",
        "\n",
        "  if ((a==b and b!=c) or (c==b and b!=a) or (a==c and c!=b)):\n",
        "\n",
        "    print(\"ikizkenar\")\n",
        "\n",
        "  if (a!=b and b!=c and a!=c):\n",
        "\n",
        "    print(\"çeşitkenar\")\n",
        "\n",
        "\n",
        "  \n",
        "else:\n",
        "\n",
        "  print(\"üçgen oluşturmaz\")"
      ],
      "metadata": {
        "id": "k28PcRi7RoQx"
      },
      "execution_count": null,
      "outputs": []
    }
  ]
}